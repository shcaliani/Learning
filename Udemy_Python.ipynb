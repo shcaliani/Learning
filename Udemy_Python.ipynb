{
  "nbformat": 4,
  "nbformat_minor": 0,
  "metadata": {
    "colab": {
      "name": "Udemy-Python.ipynb",
      "provenance": [],
      "toc_visible": true,
      "authorship_tag": "ABX9TyMfHanNpGrqRPMZuD7vayJb",
      "include_colab_link": true
    },
    "kernelspec": {
      "name": "python3",
      "display_name": "Python 3"
    }
  },
  "cells": [
    {
      "cell_type": "markdown",
      "metadata": {
        "id": "view-in-github",
        "colab_type": "text"
      },
      "source": [
        "<a href=\"https://colab.research.google.com/github/shcaliani/Learning/blob/master/Udemy_Python.ipynb\" target=\"_parent\"><img src=\"https://colab.research.google.com/assets/colab-badge.svg\" alt=\"Open In Colab\"/></a>"
      ]
    },
    {
      "cell_type": "markdown",
      "metadata": {
        "id": "HiGg8X_yTpZC"
      },
      "source": [
        "----\r\n",
        "# Treinamento Python pela Udemy\r\n",
        "----\r\n",
        "\r\n"
      ]
    },
    {
      "cell_type": "markdown",
      "metadata": {
        "id": "epvxY2VmT7Nf"
      },
      "source": [
        ""
      ]
    },
    {
      "cell_type": "markdown",
      "metadata": {
        "id": "fDbDGRByVfYn"
      },
      "source": [
        "\r\n",
        "# print, strings, variáveis, indexação e afins"
      ]
    },
    {
      "cell_type": "code",
      "metadata": {
        "id": "H7LM6-z4Tend"
      },
      "source": [
        "# impressoes - metodo print\r\n",
        "\r\n",
        "print(\"------------\")\r\n",
        "print(\"hello world\")\r\n",
        "print(\"------------\")\r\n",
        "\r\n",
        "# str()\r\n",
        "v = 'string'\r\n",
        "v = 123\r\n",
        "print ('Temos uma %s auxiliar' %(v))\r\n",
        "\r\n",
        "# repr()\r\n",
        "v = 123\r\n",
        "print ('Temos uma %r auxiliar' %(v))\r\n",
        "\r\n",
        "print ('Pontos flutuantes: %1.2f' %(13.144))\r\n",
        "print ('Pontos flutuantes: %11.5f' %(13.144))\r\n",
        "\r\n",
        "a1 = 'string'\r\n",
        "a2 = 1234\r\n",
        "\r\n",
        "print ('Temos uma %s aqui. Temos um inteiro aqui: %r' %(a1, a2))\r\n",
        "\r\n",
        "b1 = 'One: {a}, Two {b}, Three {c}'.format(a=1, b='two', c=12.3)\r\n",
        "print (b1)\r\n",
        "\r\n",
        "\r\n",
        "print (\"\")\r\n",
        "print (\"--fim--\")\r\n"
      ],
      "execution_count": null,
      "outputs": []
    },
    {
      "cell_type": "code",
      "metadata": {
        "id": "LIaNEdPHUi-l"
      },
      "source": [
        "# Numeros\r\n",
        "1+1\r\n",
        "# type(01)\r\n",
        "int(10.1)\r\n",
        "# float(01)\r\n",
        "\r\n",
        "# Variaveis\r\n",
        "a = 5\r\n",
        "print (a)\r\n",
        "\r\n",
        "# strings\r\n",
        "'ola'\r\n",
        "print (\"ola esta e uma nova \\n linha\")\r\n",
        "\r\n",
        "len('contando quantos caracteres')\r\n",
        "\r\n"
      ],
      "execution_count": null,
      "outputs": []
    },
    {
      "cell_type": "code",
      "metadata": {
        "id": "ebdnkP3VUjgk"
      },
      "source": [
        "# indexacao\r\n",
        "\r\n",
        "s = 'abcdefgh'\r\n",
        "s[:]    # tudo\r\n",
        "s[2:]   # do segundo em diante\r\n",
        "print (s)\r\n",
        "s[0]\r\n",
        "s[2:5]  # do segundo ate quinto\r\n",
        "s[:-2]\r\n",
        "s[::2]  # de dois em dois\r\n",
        "\r\n",
        "s = s + \"oi\"\r\n",
        "print (s)\r\n",
        "\r\n",
        "letra = 'g'\r\n",
        "print (\"letra * 10\")\r\n",
        "\r\n",
        "# strings e suas funcoes\r\n",
        "s = \"Ola mundo, bacana\"\r\n",
        "print (s.lower())\r\n",
        "print (s.split())\r\n",
        "print (s.split (','))"
      ],
      "execution_count": null,
      "outputs": []
    },
    {
      "cell_type": "markdown",
      "metadata": {
        "id": "8Jlh9guxZLJj"
      },
      "source": [
        "# Nova Sessão\r\n"
      ]
    },
    {
      "cell_type": "code",
      "metadata": {
        "colab": {
          "base_uri": "https://localhost:8080/"
        },
        "id": "qUYETbLnZOs5",
        "outputId": "0176877a-5d7d-4b8b-f57d-b9e2ab0ff31d"
      },
      "source": [
        "print ('continue aqui')"
      ],
      "execution_count": null,
      "outputs": [
        {
          "output_type": "stream",
          "text": [
            "continue aqui\n"
          ],
          "name": "stdout"
        }
      ]
    }
  ]
}